{
 "cells": [
  {
   "cell_type": "markdown",
   "metadata": {},
   "source": [
    "# PSU IST 597: Homework 2\n",
    "## Differential Privacy"
   ]
  },
  {
   "cell_type": "markdown",
   "metadata": {},
   "source": [
    "### Instructions\n",
    "This assignment follows the same principles as our hands-on in-class activities, and centers around concepts we've discussed in our differential privacy module.\n",
    "\n",
    "To ensure that the notebook runs, I've defined a function your_code_here() that simply returns the number 1. Whenever you see a call to this function, you should replace it with code you have written. Please make sure all cells of your notebook run without error before submitting the assignment. If you have not completed all the questions, leave calls to your_code_here() in place or insert dummy values so that the cell does not throw an error when it runs.\n",
    "\n",
    "When answering non-code questions, feel free to use a comment, or put the cell in Markdown mode and use Markdown.\n",
    "The point value of each question is listed with the question, and these add up to 100 points. The assignment is due by 9:00am on Wednesdsay, March 24. (Each day late is a 10 point deduction.) When you have finished your assignment, please submit it via Canvas."
   ]
  },
  {
   "cell_type": "markdown",
   "metadata": {},
   "source": [
    "### Preamble"
   ]
  },
  {
   "cell_type": "code",
   "execution_count": 2,
   "metadata": {},
   "outputs": [],
   "source": [
    "%matplotlib inline\n",
    "import matplotlib.pyplot as plt\n",
    "plt.style.use('seaborn-whitegrid')\n",
    "import pandas as pd\n",
    "import numpy as np\n",
    "\n",
    "# Our usual dataset\n",
    "\n",
    "adultdata = pd.read_csv(\"adult_with_pii (1).csv\")\n",
    "adultdata['DOB'] = pd.to_datetime(adultdata['DOB'], errors='coerce')\n",
    "adultdata.head()\n",
    "\n",
    "# Some useful utilities from earlier assignments\n",
    "\n",
    "def laplace_mech(v, sensitivity, epsilon):\n",
    "    return v + np.random.laplace(loc=0, scale=sensitivity / epsilon)\n",
    "\n",
    "def pct_error(orig, priv):\n",
    "    return np.abs(orig - priv)/orig * 100.0\n",
    "\n",
    "def your_code_here():\n",
    "    return 1"
   ]
  },
  {
   "cell_type": "markdown",
   "metadata": {},
   "source": [
    "## Collaboration Statement\n",
    "\n",
    "**You are expected to work indepdently on this assignment.** Everyone should write their *own code and responses*. You may collaborate with a classmate through *high level* discussions (only). To the extent that you do so, please describe this in the collaboration statment below."
   ]
  },
  {
   "cell_type": "code",
   "execution_count": 3,
   "metadata": {},
   "outputs": [],
   "source": [
    "# In this cell (in markdown or a comment) write your collaboration statement"
   ]
  },
  {
   "cell_type": "markdown",
   "metadata": {},
   "source": [
    "### Question 1 (1 point)"
   ]
  },
  {
   "cell_type": "markdown",
   "metadata": {},
   "source": [
    "Write code to answer the following query:\n",
    "\n",
    "`For each marital status in the census data, how many participants had that status?`\n",
    "\n",
    "*Note*: \"marital status\" is misspelled as `Martial Status` in the column names.\n",
    "\n",
    "*Hint*: use `unique()` to obtain the set of unique values in a column, and use `shape[0]` to count the number of rows in a dataframe."
   ]
  },
  {
   "cell_type": "code",
   "execution_count": 5,
   "metadata": {},
   "outputs": [
    {
     "data": {
      "text/plain": [
       "7"
      ]
     },
     "execution_count": 5,
     "metadata": {},
     "output_type": "execute_result"
    }
   ],
   "source": [
    "adultdata = pd.read_csv('adult_with_pii (1).csv') \n",
    "\n",
    "adultdata['MartialStatus'].unique().shape[0]"
   ]
  },
  {
   "cell_type": "markdown",
   "metadata": {},
   "source": [
    "### Question 2 (3 points)\n",
    "\n",
    "Write code to return a differentially private version of your result from the last question. Use the definition of `laplace_mech`."
   ]
  },
  {
   "cell_type": "code",
   "execution_count": 7,
   "metadata": {},
   "outputs": [
    {
     "data": {
      "text/plain": [
       "-60.887343854619175"
      ]
     },
     "execution_count": 7,
     "metadata": {},
     "output_type": "execute_result"
    }
   ],
   "source": [
    "sensitivity = 1\n",
    "epsilon = 0.1\n",
    "\n",
    "adultdata['MartialStatus'].unique().shape[0] + np.random.laplace(loc=0, scale=sensitivity/epsilon)"
   ]
  },
  {
   "cell_type": "markdown",
   "metadata": {},
   "source": [
    "### Question 3 (3 points)\n",
    "\n",
    "In the cell below, answer the following in 3-5 sentences:\n",
    "- What is the privacy cost of your answer to the last question, and why?\n",
    "- Does it violate privacy to release the set of unique marital status categories (i.e. the \"histogram bin labels\"), as we do here? Why or why not? \n",
    "- Is the answer to the above point the same for every dataset?"
   ]
  },
  {
   "cell_type": "code",
   "execution_count": 6,
   "metadata": {},
   "outputs": [],
   "source": [
    "# The privacy cost of question to is epsilon = 0.1 because I only ran the function once. We have a \"privacy budget\" and to maintain utility it the function can only be ran a certain amount of times. \n",
    "# It does not violate privacy because of the \"noise\" we added to the dataset with S = 1 and Epsilon = 0.1. \n",
    "# However, this is not the case for every dataset because often more noise will be required for effective differential privacy. "
   ]
  },
  {
   "cell_type": "markdown",
   "metadata": {},
   "source": [
    "### Question 4 (5 points)\n",
    "\n",
    "Fill in the following code block to produce graphs of the percent error introduced for each count. Your code should compute 100 differentially private answers for each marital status, and compute the percent error of those answers. The remaining code will plot histograms of the results for each status."
   ]
  },
  {
   "cell_type": "code",
   "execution_count": 8,
   "metadata": {},
   "outputs": [
    {
     "data": {
      "image/png": "[encoded data removed]",
      "text/plain": [
       "<Figure size 432x288 with 7 Axes>"
      ]
     },
     "metadata": {},
     "output_type": "display_data"
    }
   ],
   "source": [
    "def pct_error(orig, priv):\n",
    "    return np.abs(orig - priv)/orig * 100.0\n",
    "\n",
    "fig = plt.figure()\n",
    "\n",
    "dom = adultdata['MartialStatus'].unique()\n",
    "for status,num in zip(dom, range(1, len(dom)+1)):\n",
    "    origvals = [adultdata['MartialStatus'].unique().shape[0]]\n",
    "    privvals = [adultdata['MartialStatus'].unique().shape[0] + np.random.laplace(loc=0, scale=sensitivity/epsilon)]\n",
    "    errors = [(np.abs(origvals) - np.abs(privvals))/origvals * 100.0 for x in origvals]\n",
    "    ax = fig.add_subplot(4,2,num)\n",
    "    ax.hist(errors, bins=10)\n",
    "    ax.set_title(status)\n",
    "\n",
    "plt.tight_layout()\n",
    "plt.show()"
   ]
  },
  {
   "cell_type": "markdown",
   "metadata": {},
   "source": [
    "### Question 5 (3 points)\n",
    "\n",
    "In 3-5 sentences, answer the following:\n",
    "- Which marital status tends to have the largest error? Which one has the smallest error?\n",
    "- What is the reason for this discrepency?\n",
    "- Describe a rule of thumb for deciding when a differentially private counting query will yield an accurate result."
   ]
  },
  {
   "cell_type": "code",
   "execution_count": 8,
   "metadata": {},
   "outputs": [],
   "source": [
    "# The largest error in Martial Status seems to be Married-civ-spouse based on my code. The smallest error seems to be Separated based on my code.\n",
    "# When we DP these answers we are shrinking the counts and are affecting the accuracy of the dataset.  \n",
    "# A good rule of thumb for assuring accurate results if for epsilon to be as close to 0 as possible between 1 and 0.0001. "
   ]
  },
  {
   "cell_type": "markdown",
   "metadata": {},
   "source": [
    "### Question 6 (2 points)\n",
    "\n",
    "Build a [contingency table](https://en.wikipedia.org/wiki/Contingency_table) between the `Martial Status` and `Sex` columns of the `adult_data` dataframe.\n",
    "\n",
    "*Note*: \"marital status\" is misspelled as `Martial Status` in the column names.\n",
    "\n",
    "*Hint*: use `pd.crosstab(..., ...)` (documentation [here](https://pandas.pydata.org/pandas-docs/stable/generated/pandas.crosstab.html))."
   ]
  },
  {
   "cell_type": "code",
   "execution_count": 7,
   "metadata": {},
   "outputs": [
    {
     "data": {
      "text/html": [
       "<div>\n",
       "<style scoped>\n",
       "    .dataframe tbody tr th:only-of-type {\n",
       "        vertical-align: middle;\n",
       "    }\n",
       "\n",
       "    .dataframe tbody tr th {\n",
       "        vertical-align: top;\n",
       "    }\n",
       "\n",
       "    .dataframe thead th {\n",
       "        text-align: right;\n",
       "    }\n",
       "</style>\n",
       "<table border=\"1\" class=\"dataframe\">\n",
       "  <thead>\n",
       "    <tr style=\"text-align: right;\">\n",
       "      <th>Sex</th>\n",
       "      <th>Female</th>\n",
       "      <th>Male</th>\n",
       "    </tr>\n",
       "    <tr>\n",
       "      <th>MartialStatus</th>\n",
       "      <th></th>\n",
       "      <th></th>\n",
       "    </tr>\n",
       "  </thead>\n",
       "  <tbody>\n",
       "    <tr>\n",
       "      <th>Divorced</th>\n",
       "      <td>2672</td>\n",
       "      <td>1771</td>\n",
       "    </tr>\n",
       "    <tr>\n",
       "      <th>Married-AF-spouse</th>\n",
       "      <td>14</td>\n",
       "      <td>9</td>\n",
       "    </tr>\n",
       "    <tr>\n",
       "      <th>Married-civ-spouse</th>\n",
       "      <td>1657</td>\n",
       "      <td>13319</td>\n",
       "    </tr>\n",
       "    <tr>\n",
       "      <th>Married-spouse-absent</th>\n",
       "      <td>205</td>\n",
       "      <td>213</td>\n",
       "    </tr>\n",
       "    <tr>\n",
       "      <th>Never-married</th>\n",
       "      <td>4767</td>\n",
       "      <td>5916</td>\n",
       "    </tr>\n",
       "    <tr>\n",
       "      <th>Separated</th>\n",
       "      <td>631</td>\n",
       "      <td>394</td>\n",
       "    </tr>\n",
       "    <tr>\n",
       "      <th>Widowed</th>\n",
       "      <td>825</td>\n",
       "      <td>168</td>\n",
       "    </tr>\n",
       "  </tbody>\n",
       "</table>\n",
       "</div>"
      ],
      "text/plain": [
       "Sex                    Female   Male\n",
       "MartialStatus                       \n",
       "Divorced                 2672   1771\n",
       "Married-AF-spouse          14      9\n",
       "Married-civ-spouse       1657  13319\n",
       "Married-spouse-absent     205    213\n",
       "Never-married            4767   5916\n",
       "Separated                 631    394\n",
       "Widowed                   825    168"
      ]
     },
     "execution_count": 7,
     "metadata": {},
     "output_type": "execute_result"
    }
   ],
   "source": [
    "pd.crosstab(adultdata['MartialStatus'], adultdata['Sex'])"
   ]
  },
  {
   "cell_type": "markdown",
   "metadata": {},
   "source": [
    "### Question 7 (3 points)\n",
    "\n",
    "Write code to build a differentially private version of your result from the last question."
   ]
  },
  {
   "cell_type": "code",
   "execution_count": 8,
   "metadata": {},
   "outputs": [
    {
     "data": {
      "text/html": [
       "<div>\n",
       "<style scoped>\n",
       "    .dataframe tbody tr th:only-of-type {\n",
       "        vertical-align: middle;\n",
       "    }\n",
       "\n",
       "    .dataframe tbody tr th {\n",
       "        vertical-align: top;\n",
       "    }\n",
       "\n",
       "    .dataframe thead th {\n",
       "        text-align: right;\n",
       "    }\n",
       "</style>\n",
       "<table border=\"1\" class=\"dataframe\">\n",
       "  <thead>\n",
       "    <tr style=\"text-align: right;\">\n",
       "      <th>Sex</th>\n",
       "      <th>Female</th>\n",
       "      <th>Male</th>\n",
       "    </tr>\n",
       "    <tr>\n",
       "      <th>MartialStatus</th>\n",
       "      <th></th>\n",
       "      <th></th>\n",
       "    </tr>\n",
       "  </thead>\n",
       "  <tbody>\n",
       "    <tr>\n",
       "      <th>Divorced</th>\n",
       "      <td>2673.585883</td>\n",
       "      <td>1770.000224</td>\n",
       "    </tr>\n",
       "    <tr>\n",
       "      <th>Married-AF-spouse</th>\n",
       "      <td>14.600543</td>\n",
       "      <td>9.167210</td>\n",
       "    </tr>\n",
       "    <tr>\n",
       "      <th>Married-civ-spouse</th>\n",
       "      <td>1656.619344</td>\n",
       "      <td>13320.195315</td>\n",
       "    </tr>\n",
       "    <tr>\n",
       "      <th>Married-spouse-absent</th>\n",
       "      <td>205.258695</td>\n",
       "      <td>213.199888</td>\n",
       "    </tr>\n",
       "    <tr>\n",
       "      <th>Never-married</th>\n",
       "      <td>4763.784717</td>\n",
       "      <td>5916.328154</td>\n",
       "    </tr>\n",
       "    <tr>\n",
       "      <th>Separated</th>\n",
       "      <td>631.266402</td>\n",
       "      <td>391.837612</td>\n",
       "    </tr>\n",
       "    <tr>\n",
       "      <th>Widowed</th>\n",
       "      <td>826.928838</td>\n",
       "      <td>165.272851</td>\n",
       "    </tr>\n",
       "  </tbody>\n",
       "</table>\n",
       "</div>"
      ],
      "text/plain": [
       "Sex                         Female          Male\n",
       "MartialStatus                                   \n",
       "Divorced               2673.585883   1770.000224\n",
       "Married-AF-spouse        14.600543      9.167210\n",
       "Married-civ-spouse     1656.619344  13320.195315\n",
       "Married-spouse-absent   205.258695    213.199888\n",
       "Never-married          4763.784717   5916.328154\n",
       "Separated               631.266402    391.837612\n",
       "Widowed                 826.928838    165.272851"
      ]
     },
     "execution_count": 8,
     "metadata": {},
     "output_type": "execute_result"
    }
   ],
   "source": [
    "epsilon = 1\n",
    "\n",
    "ct = pd.crosstab(adultdata['MartialStatus'], adultdata['Sex'])\n",
    "ct.applymap(lambda x: x + np.random.laplace(loc=0, scale=sensitivity/epsilon))\n"
   ]
  },
  {
   "cell_type": "markdown",
   "metadata": {},
   "source": [
    "### Question 8 (5 points)\n",
    "\n",
    "Write code to display a table containing percent errors for each of the cells in your answer to the last question."
   ]
  },
  {
   "cell_type": "code",
   "execution_count": 9,
   "metadata": {},
   "outputs": [
    {
     "data": {
      "text/plain": [
       "[Sex                      Female       Male\n",
       " MartialStatus                             \n",
       " Divorced              -0.016259   0.132978\n",
       " Married-AF-spouse     -3.426158  10.886496\n",
       " Married-civ-spouse    -0.049135   0.014042\n",
       " Married-spouse-absent  1.980102   0.163775\n",
       " Never-married         -0.001904   0.023609\n",
       " Separated             -0.446170   0.004724\n",
       " Widowed               -0.100286  -1.978096,\n",
       " Sex                      Female       Male\n",
       " MartialStatus                             \n",
       " Divorced              -0.016259   0.132978\n",
       " Married-AF-spouse     -3.426158  10.886496\n",
       " Married-civ-spouse    -0.049135   0.014042\n",
       " Married-spouse-absent  1.980102   0.163775\n",
       " Never-married         -0.001904   0.023609\n",
       " Separated             -0.446170   0.004724\n",
       " Widowed               -0.100286  -1.978096]"
      ]
     },
     "metadata": {},
     "output_type": "display_data"
    }
   ],
   "source": [
    "def pct_error(orig, priv):\n",
    "    return np.abs(orig - priv)/orig * 100.0 \n",
    "\n",
    "epsilon = 1\n",
    "\n",
    "origvals = pd.crosstab(adultdata['MartialStatus'], adultdata['Sex'])\n",
    "privvals = origvals.applymap(lambda x: x + np.random.laplace(loc=0, scale=sensitivity/epsilon))\n",
    "errors = [(np.abs(origvals) - np.abs(privvals))/origvals * 100.0 for x in origvals]\n",
    "display(errors)"
   ]
  },
  {
   "cell_type": "markdown",
   "metadata": {},
   "source": [
    "### Question 9 (3 points)\n",
    "\n",
    "In 3-5 sentences, answer the following:\n",
    "- What is the privacy cost of your answer to Question 7?\n",
    "- For which cells does your solution produce accurate results? For which cells does it produce results with high error?"
   ]
  },
  {
   "cell_type": "code",
   "execution_count": 12,
   "metadata": {},
   "outputs": [],
   "source": [
    "# The privacy cost of question to is epsilon = 1 because I only ran the function once.\n",
    "# Accurate results are present in Married-civ-spouse, Never-married, Widowed, and Married-spouse-absent. High error occurs in Married-AF-spouse, Separated, and Divorced.   "
   ]
  },
  {
   "cell_type": "markdown",
   "metadata": {},
   "source": [
    "### Question 10 (5 points)\n",
    "\n",
    "Write code to produce a differentially private contingency table for three variables: `Martial Status`, `Sex`, and `Education`. Also write code to display the percent error for each cell in your table."
   ]
  },
  {
   "cell_type": "code",
   "execution_count": null,
   "metadata": {},
   "outputs": [],
   "source": [
    "#adapted from https://www.tutorialspoint.com/contingency-table-in-python and https://pandas.pydata.org/docs/reference/api/pandas.crosstab.html"
   ]
  },
  {
   "cell_type": "code",
   "execution_count": 11,
   "metadata": {
    "scrolled": true
   },
   "outputs": [
    {
     "data": {
      "text/html": [
       "<div>\n",
       "<style scoped>\n",
       "    .dataframe tbody tr th:only-of-type {\n",
       "        vertical-align: middle;\n",
       "    }\n",
       "\n",
       "    .dataframe tbody tr th {\n",
       "        vertical-align: top;\n",
       "    }\n",
       "\n",
       "    .dataframe thead tr th {\n",
       "        text-align: left;\n",
       "    }\n",
       "\n",
       "    .dataframe thead tr:last-of-type th {\n",
       "        text-align: right;\n",
       "    }\n",
       "</style>\n",
       "<table border=\"1\" class=\"dataframe\">\n",
       "  <thead>\n",
       "    <tr>\n",
       "      <th>Sex</th>\n",
       "      <th colspan=\"10\" halign=\"left\">Female</th>\n",
       "      <th>...</th>\n",
       "      <th colspan=\"10\" halign=\"left\">Male</th>\n",
       "    </tr>\n",
       "    <tr>\n",
       "      <th>Education</th>\n",
       "      <th>10th</th>\n",
       "      <th>11th</th>\n",
       "      <th>12th</th>\n",
       "      <th>1st-4th</th>\n",
       "      <th>5th-6th</th>\n",
       "      <th>7th-8th</th>\n",
       "      <th>9th</th>\n",
       "      <th>Assoc-acdm</th>\n",
       "      <th>Assoc-voc</th>\n",
       "      <th>Bachelors</th>\n",
       "      <th>...</th>\n",
       "      <th>9th</th>\n",
       "      <th>Assoc-acdm</th>\n",
       "      <th>Assoc-voc</th>\n",
       "      <th>Bachelors</th>\n",
       "      <th>Doctorate</th>\n",
       "      <th>HS-grad</th>\n",
       "      <th>Masters</th>\n",
       "      <th>Preschool</th>\n",
       "      <th>Prof-school</th>\n",
       "      <th>Some-college</th>\n",
       "    </tr>\n",
       "    <tr>\n",
       "      <th>MartialStatus</th>\n",
       "      <th></th>\n",
       "      <th></th>\n",
       "      <th></th>\n",
       "      <th></th>\n",
       "      <th></th>\n",
       "      <th></th>\n",
       "      <th></th>\n",
       "      <th></th>\n",
       "      <th></th>\n",
       "      <th></th>\n",
       "      <th></th>\n",
       "      <th></th>\n",
       "      <th></th>\n",
       "      <th></th>\n",
       "      <th></th>\n",
       "      <th></th>\n",
       "      <th></th>\n",
       "      <th></th>\n",
       "      <th></th>\n",
       "      <th></th>\n",
       "      <th></th>\n",
       "    </tr>\n",
       "  </thead>\n",
       "  <tbody>\n",
       "    <tr>\n",
       "      <th>Divorced</th>\n",
       "      <td>67</td>\n",
       "      <td>79</td>\n",
       "      <td>17</td>\n",
       "      <td>5</td>\n",
       "      <td>10</td>\n",
       "      <td>33</td>\n",
       "      <td>35</td>\n",
       "      <td>136</td>\n",
       "      <td>153</td>\n",
       "      <td>295</td>\n",
       "      <td>...</td>\n",
       "      <td>29</td>\n",
       "      <td>67</td>\n",
       "      <td>81</td>\n",
       "      <td>251</td>\n",
       "      <td>13</td>\n",
       "      <td>676</td>\n",
       "      <td>80</td>\n",
       "      <td>1</td>\n",
       "      <td>34</td>\n",
       "      <td>358</td>\n",
       "    </tr>\n",
       "    <tr>\n",
       "      <th>Married-AF-spouse</th>\n",
       "      <td>0</td>\n",
       "      <td>0</td>\n",
       "      <td>0</td>\n",
       "      <td>0</td>\n",
       "      <td>0</td>\n",
       "      <td>0</td>\n",
       "      <td>0</td>\n",
       "      <td>2</td>\n",
       "      <td>0</td>\n",
       "      <td>2</td>\n",
       "      <td>...</td>\n",
       "      <td>0</td>\n",
       "      <td>0</td>\n",
       "      <td>1</td>\n",
       "      <td>2</td>\n",
       "      <td>0</td>\n",
       "      <td>5</td>\n",
       "      <td>0</td>\n",
       "      <td>0</td>\n",
       "      <td>0</td>\n",
       "      <td>1</td>\n",
       "    </tr>\n",
       "    <tr>\n",
       "      <th>Married-civ-spouse</th>\n",
       "      <td>33</td>\n",
       "      <td>35</td>\n",
       "      <td>20</td>\n",
       "      <td>6</td>\n",
       "      <td>18</td>\n",
       "      <td>23</td>\n",
       "      <td>22</td>\n",
       "      <td>77</td>\n",
       "      <td>93</td>\n",
       "      <td>311</td>\n",
       "      <td>...</td>\n",
       "      <td>208</td>\n",
       "      <td>383</td>\n",
       "      <td>596</td>\n",
       "      <td>2457</td>\n",
       "      <td>266</td>\n",
       "      <td>4312</td>\n",
       "      <td>890</td>\n",
       "      <td>17</td>\n",
       "      <td>385</td>\n",
       "      <td>2495</td>\n",
       "    </tr>\n",
       "    <tr>\n",
       "      <th>Married-spouse-absent</th>\n",
       "      <td>7</td>\n",
       "      <td>7</td>\n",
       "      <td>4</td>\n",
       "      <td>3</td>\n",
       "      <td>5</td>\n",
       "      <td>6</td>\n",
       "      <td>3</td>\n",
       "      <td>8</td>\n",
       "      <td>8</td>\n",
       "      <td>32</td>\n",
       "      <td>...</td>\n",
       "      <td>6</td>\n",
       "      <td>4</td>\n",
       "      <td>5</td>\n",
       "      <td>36</td>\n",
       "      <td>4</td>\n",
       "      <td>58</td>\n",
       "      <td>8</td>\n",
       "      <td>4</td>\n",
       "      <td>2</td>\n",
       "      <td>30</td>\n",
       "    </tr>\n",
       "    <tr>\n",
       "      <th>Never-married</th>\n",
       "      <td>128</td>\n",
       "      <td>248</td>\n",
       "      <td>84</td>\n",
       "      <td>12</td>\n",
       "      <td>29</td>\n",
       "      <td>34</td>\n",
       "      <td>50</td>\n",
       "      <td>161</td>\n",
       "      <td>178</td>\n",
       "      <td>869</td>\n",
       "      <td>...</td>\n",
       "      <td>105</td>\n",
       "      <td>176</td>\n",
       "      <td>184</td>\n",
       "      <td>926</td>\n",
       "      <td>38</td>\n",
       "      <td>1854</td>\n",
       "      <td>188</td>\n",
       "      <td>12</td>\n",
       "      <td>56</td>\n",
       "      <td>1492</td>\n",
       "    </tr>\n",
       "    <tr>\n",
       "      <th>Separated</th>\n",
       "      <td>31</td>\n",
       "      <td>28</td>\n",
       "      <td>12</td>\n",
       "      <td>5</td>\n",
       "      <td>11</td>\n",
       "      <td>13</td>\n",
       "      <td>17</td>\n",
       "      <td>16</td>\n",
       "      <td>29</td>\n",
       "      <td>46</td>\n",
       "      <td>...</td>\n",
       "      <td>16</td>\n",
       "      <td>14</td>\n",
       "      <td>13</td>\n",
       "      <td>46</td>\n",
       "      <td>3</td>\n",
       "      <td>136</td>\n",
       "      <td>11</td>\n",
       "      <td>0</td>\n",
       "      <td>5</td>\n",
       "      <td>89</td>\n",
       "    </tr>\n",
       "    <tr>\n",
       "      <th>Widowed</th>\n",
       "      <td>29</td>\n",
       "      <td>35</td>\n",
       "      <td>7</td>\n",
       "      <td>15</td>\n",
       "      <td>11</td>\n",
       "      <td>51</td>\n",
       "      <td>17</td>\n",
       "      <td>21</td>\n",
       "      <td>39</td>\n",
       "      <td>64</td>\n",
       "      <td>...</td>\n",
       "      <td>6</td>\n",
       "      <td>2</td>\n",
       "      <td>2</td>\n",
       "      <td>18</td>\n",
       "      <td>3</td>\n",
       "      <td>70</td>\n",
       "      <td>10</td>\n",
       "      <td>1</td>\n",
       "      <td>2</td>\n",
       "      <td>20</td>\n",
       "    </tr>\n",
       "  </tbody>\n",
       "</table>\n",
       "<p>7 rows × 32 columns</p>\n",
       "</div>"
      ],
      "text/plain": [
       "Sex                   Female                                                   \\\n",
       "Education               10th 11th 12th 1st-4th 5th-6th 7th-8th 9th Assoc-acdm   \n",
       "MartialStatus                                                                   \n",
       "Divorced                  67   79   17       5      10      33  35        136   \n",
       "Married-AF-spouse          0    0    0       0       0       0   0          2   \n",
       "Married-civ-spouse        33   35   20       6      18      23  22         77   \n",
       "Married-spouse-absent      7    7    4       3       5       6   3          8   \n",
       "Never-married            128  248   84      12      29      34  50        161   \n",
       "Separated                 31   28   12       5      11      13  17         16   \n",
       "Widowed                   29   35    7      15      11      51  17         21   \n",
       "\n",
       "Sex                                        ... Male                       \\\n",
       "Education             Assoc-voc Bachelors  ...  9th Assoc-acdm Assoc-voc   \n",
       "MartialStatus                              ...                             \n",
       "Divorced                    153       295  ...   29         67        81   \n",
       "Married-AF-spouse             0         2  ...    0          0         1   \n",
       "Married-civ-spouse           93       311  ...  208        383       596   \n",
       "Married-spouse-absent         8        32  ...    6          4         5   \n",
       "Never-married               178       869  ...  105        176       184   \n",
       "Separated                    29        46  ...   16         14        13   \n",
       "Widowed                      39        64  ...    6          2         2   \n",
       "\n",
       "Sex                                                                  \\\n",
       "Education             Bachelors Doctorate HS-grad Masters Preschool   \n",
       "MartialStatus                                                         \n",
       "Divorced                    251        13     676      80         1   \n",
       "Married-AF-spouse             2         0       5       0         0   \n",
       "Married-civ-spouse         2457       266    4312     890        17   \n",
       "Married-spouse-absent        36         4      58       8         4   \n",
       "Never-married               926        38    1854     188        12   \n",
       "Separated                    46         3     136      11         0   \n",
       "Widowed                      18         3      70      10         1   \n",
       "\n",
       "Sex                                             \n",
       "Education             Prof-school Some-college  \n",
       "MartialStatus                                   \n",
       "Divorced                       34          358  \n",
       "Married-AF-spouse               0            1  \n",
       "Married-civ-spouse            385         2495  \n",
       "Married-spouse-absent           2           30  \n",
       "Never-married                  56         1492  \n",
       "Separated                       5           89  \n",
       "Widowed                         2           20  \n",
       "\n",
       "[7 rows x 32 columns]"
      ]
     },
     "metadata": {},
     "output_type": "display_data"
    },
    {
     "data": {
      "text/html": [
       "<div>\n",
       "<style scoped>\n",
       "    .dataframe tbody tr th:only-of-type {\n",
       "        vertical-align: middle;\n",
       "    }\n",
       "\n",
       "    .dataframe tbody tr th {\n",
       "        vertical-align: top;\n",
       "    }\n",
       "\n",
       "    .dataframe thead tr th {\n",
       "        text-align: left;\n",
       "    }\n",
       "\n",
       "    .dataframe thead tr:last-of-type th {\n",
       "        text-align: right;\n",
       "    }\n",
       "</style>\n",
       "<table border=\"1\" class=\"dataframe\">\n",
       "  <thead>\n",
       "    <tr>\n",
       "      <th>Sex</th>\n",
       "      <th colspan=\"10\" halign=\"left\">Female</th>\n",
       "      <th>...</th>\n",
       "      <th colspan=\"10\" halign=\"left\">Male</th>\n",
       "    </tr>\n",
       "    <tr>\n",
       "      <th>Education</th>\n",
       "      <th>10th</th>\n",
       "      <th>11th</th>\n",
       "      <th>12th</th>\n",
       "      <th>1st-4th</th>\n",
       "      <th>5th-6th</th>\n",
       "      <th>7th-8th</th>\n",
       "      <th>9th</th>\n",
       "      <th>Assoc-acdm</th>\n",
       "      <th>Assoc-voc</th>\n",
       "      <th>Bachelors</th>\n",
       "      <th>...</th>\n",
       "      <th>9th</th>\n",
       "      <th>Assoc-acdm</th>\n",
       "      <th>Assoc-voc</th>\n",
       "      <th>Bachelors</th>\n",
       "      <th>Doctorate</th>\n",
       "      <th>HS-grad</th>\n",
       "      <th>Masters</th>\n",
       "      <th>Preschool</th>\n",
       "      <th>Prof-school</th>\n",
       "      <th>Some-college</th>\n",
       "    </tr>\n",
       "    <tr>\n",
       "      <th>MartialStatus</th>\n",
       "      <th></th>\n",
       "      <th></th>\n",
       "      <th></th>\n",
       "      <th></th>\n",
       "      <th></th>\n",
       "      <th></th>\n",
       "      <th></th>\n",
       "      <th></th>\n",
       "      <th></th>\n",
       "      <th></th>\n",
       "      <th></th>\n",
       "      <th></th>\n",
       "      <th></th>\n",
       "      <th></th>\n",
       "      <th></th>\n",
       "      <th></th>\n",
       "      <th></th>\n",
       "      <th></th>\n",
       "      <th></th>\n",
       "      <th></th>\n",
       "      <th></th>\n",
       "    </tr>\n",
       "  </thead>\n",
       "  <tbody>\n",
       "    <tr>\n",
       "      <th>Divorced</th>\n",
       "      <td>107.258491</td>\n",
       "      <td>85.561556</td>\n",
       "      <td>-4.986572</td>\n",
       "      <td>18.923916</td>\n",
       "      <td>42.213950</td>\n",
       "      <td>37.145560</td>\n",
       "      <td>21.016131</td>\n",
       "      <td>143.800343</td>\n",
       "      <td>153.899370</td>\n",
       "      <td>301.767236</td>\n",
       "      <td>...</td>\n",
       "      <td>46.384814</td>\n",
       "      <td>67.825318</td>\n",
       "      <td>69.859064</td>\n",
       "      <td>243.794212</td>\n",
       "      <td>33.123660</td>\n",
       "      <td>673.262682</td>\n",
       "      <td>80.846846</td>\n",
       "      <td>-3.552746</td>\n",
       "      <td>25.892164</td>\n",
       "      <td>363.437118</td>\n",
       "    </tr>\n",
       "    <tr>\n",
       "      <th>Married-AF-spouse</th>\n",
       "      <td>-44.399029</td>\n",
       "      <td>-29.038882</td>\n",
       "      <td>6.062666</td>\n",
       "      <td>-8.781572</td>\n",
       "      <td>4.049902</td>\n",
       "      <td>30.037935</td>\n",
       "      <td>-14.729837</td>\n",
       "      <td>-4.176648</td>\n",
       "      <td>3.530660</td>\n",
       "      <td>1.982113</td>\n",
       "      <td>...</td>\n",
       "      <td>-17.604200</td>\n",
       "      <td>-3.452263</td>\n",
       "      <td>-9.235002</td>\n",
       "      <td>16.132185</td>\n",
       "      <td>-9.267491</td>\n",
       "      <td>-1.958832</td>\n",
       "      <td>6.136967</td>\n",
       "      <td>5.074285</td>\n",
       "      <td>10.657327</td>\n",
       "      <td>6.218182</td>\n",
       "    </tr>\n",
       "    <tr>\n",
       "      <th>Married-civ-spouse</th>\n",
       "      <td>23.710694</td>\n",
       "      <td>34.669930</td>\n",
       "      <td>-6.055760</td>\n",
       "      <td>11.133295</td>\n",
       "      <td>0.553145</td>\n",
       "      <td>23.845698</td>\n",
       "      <td>18.250216</td>\n",
       "      <td>89.599071</td>\n",
       "      <td>87.378412</td>\n",
       "      <td>301.324018</td>\n",
       "      <td>...</td>\n",
       "      <td>212.046741</td>\n",
       "      <td>386.060110</td>\n",
       "      <td>601.308798</td>\n",
       "      <td>2461.680795</td>\n",
       "      <td>271.592648</td>\n",
       "      <td>4321.605705</td>\n",
       "      <td>874.806050</td>\n",
       "      <td>30.287045</td>\n",
       "      <td>427.506172</td>\n",
       "      <td>2495.481873</td>\n",
       "    </tr>\n",
       "    <tr>\n",
       "      <th>Married-spouse-absent</th>\n",
       "      <td>5.408576</td>\n",
       "      <td>11.498656</td>\n",
       "      <td>28.812158</td>\n",
       "      <td>3.368711</td>\n",
       "      <td>11.814462</td>\n",
       "      <td>-13.569308</td>\n",
       "      <td>9.154115</td>\n",
       "      <td>9.612218</td>\n",
       "      <td>-9.502256</td>\n",
       "      <td>14.451922</td>\n",
       "      <td>...</td>\n",
       "      <td>15.856331</td>\n",
       "      <td>7.204876</td>\n",
       "      <td>-32.967592</td>\n",
       "      <td>22.023589</td>\n",
       "      <td>5.104745</td>\n",
       "      <td>72.487289</td>\n",
       "      <td>30.532138</td>\n",
       "      <td>-15.679633</td>\n",
       "      <td>-21.019200</td>\n",
       "      <td>24.099129</td>\n",
       "    </tr>\n",
       "    <tr>\n",
       "      <th>Never-married</th>\n",
       "      <td>123.577281</td>\n",
       "      <td>249.396016</td>\n",
       "      <td>80.511192</td>\n",
       "      <td>12.203188</td>\n",
       "      <td>30.471913</td>\n",
       "      <td>41.533593</td>\n",
       "      <td>51.658735</td>\n",
       "      <td>164.083782</td>\n",
       "      <td>191.770910</td>\n",
       "      <td>881.777336</td>\n",
       "      <td>...</td>\n",
       "      <td>112.170266</td>\n",
       "      <td>188.968705</td>\n",
       "      <td>180.789397</td>\n",
       "      <td>918.664547</td>\n",
       "      <td>32.912552</td>\n",
       "      <td>1872.415041</td>\n",
       "      <td>192.120698</td>\n",
       "      <td>-8.351582</td>\n",
       "      <td>70.356958</td>\n",
       "      <td>1492.065561</td>\n",
       "    </tr>\n",
       "    <tr>\n",
       "      <th>Separated</th>\n",
       "      <td>57.068211</td>\n",
       "      <td>38.207961</td>\n",
       "      <td>13.435328</td>\n",
       "      <td>8.449108</td>\n",
       "      <td>15.778789</td>\n",
       "      <td>11.395547</td>\n",
       "      <td>28.075632</td>\n",
       "      <td>15.986378</td>\n",
       "      <td>37.589297</td>\n",
       "      <td>51.090647</td>\n",
       "      <td>...</td>\n",
       "      <td>16.488669</td>\n",
       "      <td>10.448796</td>\n",
       "      <td>-1.204525</td>\n",
       "      <td>45.052693</td>\n",
       "      <td>2.585389</td>\n",
       "      <td>136.584308</td>\n",
       "      <td>-0.668378</td>\n",
       "      <td>-21.857578</td>\n",
       "      <td>-3.143807</td>\n",
       "      <td>93.989253</td>\n",
       "    </tr>\n",
       "    <tr>\n",
       "      <th>Widowed</th>\n",
       "      <td>22.304805</td>\n",
       "      <td>58.630708</td>\n",
       "      <td>7.482478</td>\n",
       "      <td>16.398985</td>\n",
       "      <td>22.476503</td>\n",
       "      <td>63.559888</td>\n",
       "      <td>-9.378061</td>\n",
       "      <td>25.012021</td>\n",
       "      <td>42.405795</td>\n",
       "      <td>59.659801</td>\n",
       "      <td>...</td>\n",
       "      <td>30.201525</td>\n",
       "      <td>17.915275</td>\n",
       "      <td>10.104156</td>\n",
       "      <td>13.422133</td>\n",
       "      <td>0.811613</td>\n",
       "      <td>61.934856</td>\n",
       "      <td>-1.714187</td>\n",
       "      <td>1.262078</td>\n",
       "      <td>-5.357027</td>\n",
       "      <td>18.832128</td>\n",
       "    </tr>\n",
       "  </tbody>\n",
       "</table>\n",
       "<p>7 rows × 32 columns</p>\n",
       "</div>"
      ],
      "text/plain": [
       "Sex                        Female                                    \\\n",
       "Education                    10th        11th       12th    1st-4th   \n",
       "MartialStatus                                                         \n",
       "Divorced               107.258491   85.561556  -4.986572  18.923916   \n",
       "Married-AF-spouse      -44.399029  -29.038882   6.062666  -8.781572   \n",
       "Married-civ-spouse      23.710694   34.669930  -6.055760  11.133295   \n",
       "Married-spouse-absent    5.408576   11.498656  28.812158   3.368711   \n",
       "Never-married          123.577281  249.396016  80.511192  12.203188   \n",
       "Separated               57.068211   38.207961  13.435328   8.449108   \n",
       "Widowed                 22.304805   58.630708   7.482478  16.398985   \n",
       "\n",
       "Sex                                                                 \\\n",
       "Education                5th-6th    7th-8th        9th  Assoc-acdm   \n",
       "MartialStatus                                                        \n",
       "Divorced               42.213950  37.145560  21.016131  143.800343   \n",
       "Married-AF-spouse       4.049902  30.037935 -14.729837   -4.176648   \n",
       "Married-civ-spouse      0.553145  23.845698  18.250216   89.599071   \n",
       "Married-spouse-absent  11.814462 -13.569308   9.154115    9.612218   \n",
       "Never-married          30.471913  41.533593  51.658735  164.083782   \n",
       "Separated              15.778789  11.395547  28.075632   15.986378   \n",
       "Widowed                22.476503  63.559888  -9.378061   25.012021   \n",
       "\n",
       "Sex                                            ...        Male              \\\n",
       "Education               Assoc-voc   Bachelors  ...         9th  Assoc-acdm   \n",
       "MartialStatus                                  ...                           \n",
       "Divorced               153.899370  301.767236  ...   46.384814   67.825318   \n",
       "Married-AF-spouse        3.530660    1.982113  ...  -17.604200   -3.452263   \n",
       "Married-civ-spouse      87.378412  301.324018  ...  212.046741  386.060110   \n",
       "Married-spouse-absent   -9.502256   14.451922  ...   15.856331    7.204876   \n",
       "Never-married          191.770910  881.777336  ...  112.170266  188.968705   \n",
       "Separated               37.589297   51.090647  ...   16.488669   10.448796   \n",
       "Widowed                 42.405795   59.659801  ...   30.201525   17.915275   \n",
       "\n",
       "Sex                                                                      \\\n",
       "Education               Assoc-voc    Bachelors   Doctorate      HS-grad   \n",
       "MartialStatus                                                             \n",
       "Divorced                69.859064   243.794212   33.123660   673.262682   \n",
       "Married-AF-spouse       -9.235002    16.132185   -9.267491    -1.958832   \n",
       "Married-civ-spouse     601.308798  2461.680795  271.592648  4321.605705   \n",
       "Married-spouse-absent  -32.967592    22.023589    5.104745    72.487289   \n",
       "Never-married          180.789397   918.664547   32.912552  1872.415041   \n",
       "Separated               -1.204525    45.052693    2.585389   136.584308   \n",
       "Widowed                 10.104156    13.422133    0.811613    61.934856   \n",
       "\n",
       "Sex                                                                    \n",
       "Education                 Masters  Preschool Prof-school Some-college  \n",
       "MartialStatus                                                          \n",
       "Divorced                80.846846  -3.552746   25.892164   363.437118  \n",
       "Married-AF-spouse        6.136967   5.074285   10.657327     6.218182  \n",
       "Married-civ-spouse     874.806050  30.287045  427.506172  2495.481873  \n",
       "Married-spouse-absent   30.532138 -15.679633  -21.019200    24.099129  \n",
       "Never-married          192.120698  -8.351582   70.356958  1492.065561  \n",
       "Separated               -0.668378 -21.857578   -3.143807    93.989253  \n",
       "Widowed                 -1.714187   1.262078   -5.357027    18.832128  \n",
       "\n",
       "[7 rows x 32 columns]"
      ]
     },
     "metadata": {},
     "output_type": "display_data"
    }
   ],
   "source": [
    "%matplotlib inline\n",
    "import matplotlib.pyplot as plt\n",
    "plt.style.use('seaborn-whitegrid')\n",
    "import pandas as pd\n",
    "import numpy as np\n",
    "\n",
    "epsilon = 0.1\n",
    "def pct_error(orig, priv):\n",
    "    return np.abs(orig - priv)/orig * 100.0 \n",
    "\n",
    "origvals = pd.crosstab(adultdata['MartialStatus'], [adultdata['Sex'], adultdata['Education']], colnames=['Sex', 'Education'], rownames=['MartialStatus'])\n",
    "display(origvals)\n",
    "errors = origvals.applymap(lambda x: x + np.random.laplace(loc=0, scale=sensitivity/epsilon))\n",
    "display(errors)"
   ]
  },
  {
   "cell_type": "markdown",
   "metadata": {},
   "source": [
    "### Question 11 (5 points)\n",
    "\n",
    "In 5-10 sentences, answer the following:\n",
    "- What is the privacy cost of your differentially private contingency table in Question 10? Why?\n",
    "- The contingency table in the last question contains 3 variables, compared to 2 in the table from earlier. Is the privacy cost for the table in Question 10 different from the privacy cost in Question 7? Why or why not?\n",
    "- In general, what is the effect of the number of variables in a single contingency on **privacy cost**? Why is this the case?\n",
    "- In general, what is the effect of the number of variables in a single contingency on **accuracy**? Why is this the case?"
   ]
  },
  {
   "cell_type": "code",
   "execution_count": 14,
   "metadata": {},
   "outputs": [],
   "source": [
    "# The privacy cost of question to is epsilon = 0.1 because I only ran the function once and this is what I defined as epsilon. \n",
    "# Yes the privacy cost is different from question 7 because in this question epsilon=0.1 and in 7 epsilon=1. \n",
    "#"
   ]
  },
  {
   "cell_type": "markdown",
   "metadata": {},
   "source": [
    "### Question 12 (2 points)\n",
    "\n",
    "Define a function `z_clip` that clips elements of its input to lie below `b`. You may assume that no input will be less than 0."
   ]
  },
  {
   "cell_type": "code",
   "execution_count": 11,
   "metadata": {},
   "outputs": [],
   "source": [
    "def z_clip(xs, b):\n",
    "    return xs.clip(lower=0, upper=b)"
   ]
  },
  {
   "cell_type": "markdown",
   "metadata": {},
   "source": [
    "### Question 13 (3 points)\n",
    "\n",
    "Write code to (1) clip the values of the `Capital Gain` column of the dataset, and (2) compute the average of the clipped values. Run your code for various values of the clipping parameter `b`."
   ]
  },
  {
   "cell_type": "code",
   "execution_count": 68,
   "metadata": {},
   "outputs": [
    {
     "data": {
      "text/plain": [
       "1077.6488437087312"
      ]
     },
     "execution_count": 68,
     "metadata": {},
     "output_type": "execute_result"
    }
   ],
   "source": [
    "adultdata['Capital Gain'].mean()"
   ]
  },
  {
   "cell_type": "code",
   "execution_count": 76,
   "metadata": {},
   "outputs": [
    {
     "data": {
      "text/plain": [
       "10.409201191609593"
      ]
     },
     "execution_count": 76,
     "metadata": {},
     "output_type": "execute_result"
    }
   ],
   "source": [
    "cg = adultdata['Capital Gain']\n",
    "\n",
    "adultdata['Capital Gain'].clip(lower=0, upper=125).mean()\n"
   ]
  },
  {
   "cell_type": "code",
   "execution_count": 58,
   "metadata": {},
   "outputs": [
    {
     "data": {
      "text/plain": [
       "12.486840084763982"
      ]
     },
     "execution_count": 58,
     "metadata": {},
     "output_type": "execute_result"
    }
   ],
   "source": [
    "adultdata['Capital Gain'].clip(lower=0, upper=150).mean()"
   ]
  },
  {
   "cell_type": "code",
   "execution_count": 59,
   "metadata": {},
   "outputs": [
    {
     "data": {
      "text/plain": [
       "16.642117871072756"
      ]
     },
     "execution_count": 59,
     "metadata": {},
     "output_type": "execute_result"
    }
   ],
   "source": [
    "adultdata['Capital Gain'].clip(lower=0, upper=200).mean()"
   ]
  },
  {
   "cell_type": "code",
   "execution_count": 80,
   "metadata": {},
   "outputs": [
    {
     "data": {
      "text/plain": [
       "1077.6488437087312"
      ]
     },
     "execution_count": 80,
     "metadata": {},
     "output_type": "execute_result"
    }
   ],
   "source": [
    "adultdata['Capital Gain'].clip(lower=0, upper=99999).mean()"
   ]
  },
  {
   "cell_type": "markdown",
   "metadata": {},
   "source": [
    "### Question 14 (5 points)\n",
    "\n",
    "Write code to return the differentially private average of `Capital Gain` parameterized by the clipping parameter `b`. Run your code for various values of `b` and determine the error introduced for each value of `b`. \n",
    "\n",
    "*Note*: Your output should look something like the triple ('b', 'answer', 'pct_error')."
   ]
  },
  {
   "cell_type": "code",
   "execution_count": 17,
   "metadata": {},
   "outputs": [
    {
     "data": {
      "text/plain": [
       "[0.0,\n",
       " 2621.1000258490744,\n",
       " 4484.387210442047,\n",
       " 8180.232069552753,\n",
       " 10711.201313466601,\n",
       " 13289.051928752144,\n",
       " 16159.118036118016,\n",
       " 18573.92601646359,\n",
       " 21420.537401770995,\n",
       " 25073.113958184636,\n",
       " 27374.950705253603,\n",
       " 31429.370270418174,\n",
       " 33566.435199542466,\n",
       " 35373.65130831893,\n",
       " 40768.74771233392,\n",
       " 38254.36534425585,\n",
       " 44098.336759960264,\n",
       " 45361.15699206441,\n",
       " 49154.483821537404,\n",
       " 50854.444210984446,\n",
       " 52730.09429219698,\n",
       " 56311.02432863974,\n",
       " 61858.65899935576,\n",
       " 62404.28748214533,\n",
       " 69148.11307534536]"
      ]
     },
     "execution_count": 17,
     "metadata": {},
     "output_type": "execute_result"
    }
   ],
   "source": [
    "%matplotlib inline\n",
    "import matplotlib.pyplot as plt\n",
    "plt.style.use('seaborn-whitegrid')\n",
    "import pandas as pd\n",
    "import numpy as np\n",
    "\n",
    "adultdata = pd.read_csv('adult_with_pii (1).csv') \n",
    "\n",
    "def laplace_mech(v, sensitivity, epsilon):\n",
    "    return v + np.random.laplace(loc=0, scale=sensitivity/epsilon)\n",
    "epsilon = 0.01\n",
    "sensitivity = 1\n",
    "epsilon_i = .01\n",
    "([laplace_mech(adultdata['Capital Gain'].clip(lower=0, upper=i).sum(), i, epsilon_i) for i in range(25)])\n"
   ]
  },
  {
   "cell_type": "markdown",
   "metadata": {},
   "source": [
    "### Question 15 (5 points)\n",
    "\n",
    "In 5-10 sentences, answer the following:\n",
    "\n",
    "- In Question 13, at approximately what value of the clipping parameter `b` does the clipped average approach the original (un-clipped) average?\n",
    "- What is the sensitivity of the clipped average at this value of `b`, and why?\n",
    "- In Question 14, at approximately what value of the clipping parameter `b` is the error minimized?\n",
    "- Which seems to be more important for accuracy - the value of `b` or the scale of the noise added? Why?\n",
    "- Do you think the answer to the previous point will be true for every dataset? Why or why not?"
   ]
  },
  {
   "cell_type": "code",
   "execution_count": 18,
   "metadata": {},
   "outputs": [],
   "source": [
    "# In this cell (in markdown or a comment) write your reponses."
   ]
  },
  {
   "cell_type": "markdown",
   "metadata": {},
   "source": [
    "### Question 16 (10 points)\n",
    "\n",
    "Write a function `auto_avg` that returns the differentially private average of an array of values `xs`. Your function should **automatically** determine the clipping parameter `b`, and should enforce differential privacy for a **total** privacy cost of `epsilon`."
   ]
  },
  {
   "cell_type": "code",
   "execution_count": 19,
   "metadata": {},
   "outputs": [],
   "source": [
    "def auto_avg(xs, epsilon):\n",
    "    return your_code_here()"
   ]
  },
  {
   "cell_type": "markdown",
   "metadata": {},
   "source": [
    "### Question 17 (8 points)\n",
    "\n",
    "In 5-10 sentences, answer the following:\n",
    "- Summarize (1-2 sentences only) your approach in `auto_avg`.\n",
    "- Briefly argue that your implementation has privacy cost of `epsilon`.\n",
    "- How close is your function able to get to the \"best\" result you got in Question 14? What accounts for the difference?\n",
    "- Will your approach work well for **all** datasets? If not, describe a dataset for which it is likely to return very inaccurate results."
   ]
  },
  {
   "cell_type": "code",
   "execution_count": 20,
   "metadata": {},
   "outputs": [],
   "source": [
    "# In this cell (in markdown or a comment) write your reponses."
   ]
  },
  {
   "cell_type": "markdown",
   "metadata": {},
   "source": [
    "### Question 18 (3 points)\n",
    "\n",
    "Consider the code below, which graphs the total privacy cost of an averaging attack under (1) sequential composition and (2) advanced composition, for values of `k` between 1 and 200."
   ]
  },
  {
   "cell_type": "code",
   "execution_count": 21,
   "metadata": {},
   "outputs": [
    {
     "data": {
      "image/png": "[encoded data removed]",
      "text/plain": [
       "<Figure size 432x288 with 1 Axes>"
      ]
     },
     "metadata": {},
     "output_type": "display_data"
    }
   ],
   "source": [
    "epsilon = .1\n",
    "delta_p = 1e-5\n",
    "\n",
    "def query():\n",
    "    return len(adult_data[adult_data['Martial Status'] == 'Divorced'])\n",
    "\n",
    "def avg_attack(k):\n",
    "    return np.mean([laplace_mech(query(), 1, epsilon) for i in range(k)])\n",
    "    \n",
    "xs = range(1, 200)\n",
    "privacy_cost_sequential = [k * epsilon for k in xs]\n",
    "privacy_cost_advanced = [2 * epsilon * np.sqrt(2 * k * np.log(1/delta_p)) for k in xs]\n",
    "\n",
    "plt.plot(xs, privacy_cost_sequential);\n",
    "plt.plot(xs, privacy_cost_advanced);"
   ]
  },
  {
   "cell_type": "markdown",
   "metadata": {},
   "source": [
    "In 2-5 sentences, answer the following:\n",
    "- At approximately what point do the lines representing the two approaches cross? What does this mean about **which** composition technique should be used for an iterative algorithm?\n",
    "- The two lines represent **different** privacy costs for the **same** algorithm. How can both be correct?"
   ]
  },
  {
   "cell_type": "code",
   "execution_count": 22,
   "metadata": {},
   "outputs": [],
   "source": [
    "# In this cell (in markdown or a comment) write your reponses."
   ]
  },
  {
   "cell_type": "markdown",
   "metadata": {},
   "source": [
    "### Question 19 (3 points)\n",
    "\n",
    "In the cell below, define a function that implements the vector version of the Laplace mechanism."
   ]
  },
  {
   "cell_type": "code",
   "execution_count": 23,
   "metadata": {},
   "outputs": [],
   "source": [
    "def laplace_mech_vec(qs, sensitivity, epsilon):\n",
    "    return your_code_here()"
   ]
  },
  {
   "cell_type": "markdown",
   "metadata": {},
   "source": [
    "### Question 20 (3 points)\n",
    "\n",
    "In the cell below, define a function that implements the vector version of the Gaussian mechanism."
   ]
  },
  {
   "cell_type": "code",
   "execution_count": 24,
   "metadata": {},
   "outputs": [],
   "source": [
    "def gaussian_mech_vec(qs, sensitivity, epsilon, delta):\n",
    "    return your_code_here()"
   ]
  },
  {
   "cell_type": "markdown",
   "metadata": {},
   "source": [
    "### Question 21 (4 points)\n",
    "\n",
    "Consider the code below, which defines three average queries and runs them on `adult_data`."
   ]
  },
  {
   "cell_type": "code",
   "execution_count": 35,
   "metadata": {},
   "outputs": [
    {
     "data": {
      "text/plain": [
       "[3.071158748195694e-05, 3.071158748195694e-05, 3.071158748195694e-05]"
      ]
     },
     "execution_count": 35,
     "metadata": {},
     "output_type": "execute_result"
    }
   ],
   "source": [
    "b_capgain = 3000\n",
    "b_year = 3000\n",
    "b_age = 3000\n",
    "\n",
    "n = len(adult_data)\n",
    "\n",
    "def query1():\n",
    "    return np.sum(z_clip(adult_data['Capital Gain'], b_capgain))/n\n",
    "\n",
    "def query2():\n",
    "    return np.sum(z_clip(adult_data['DOB'].dt.year, b_year))/n\n",
    "\n",
    "def query3():\n",
    "    return np.sum(z_clip(adult_data['Age'], b_age))/n\n",
    "\n",
    "def my_query():\n",
    "    return [query1(), query2(), query3()]\n",
    "\n",
    "my_query()"
   ]
  },
  {
   "cell_type": "markdown",
   "metadata": {},
   "source": [
    "In 2-5 sentences, answer the following:\n",
    "- What is the $L_1$ sensitivity of `my_query`, and why?\n",
    "- What is the $L_2$ sensitivity of `my_query`, and why?"
   ]
  },
  {
   "cell_type": "code",
   "execution_count": 36,
   "metadata": {},
   "outputs": [],
   "source": [
    "# In this cell (in markdown or a comment) write your reponses."
   ]
  },
  {
   "cell_type": "markdown",
   "metadata": {},
   "source": [
    "### Question 22 (6 points)\n",
    "\n",
    "In the cell below, write code to release the results of calling `my_query()` with differential privacy, without using sequential composition.\n",
    "\n",
    "*Hint*: use `laplace_mech_vec`, but be careful of sensitivity!"
   ]
  },
  {
   "cell_type": "code",
   "execution_count": 37,
   "metadata": {},
   "outputs": [
    {
     "data": {
      "text/plain": [
       "1"
      ]
     },
     "execution_count": 37,
     "metadata": {},
     "output_type": "execute_result"
    }
   ],
   "source": [
    "your_code_here()"
   ]
  },
  {
   "cell_type": "markdown",
   "metadata": {},
   "source": [
    "### Question 23 (4 points)\n",
    "\n",
    "In 2-5 sentences, answer the following:\n",
    "- What is the total privacy cost of your answer to Question 22, and why?"
   ]
  },
  {
   "cell_type": "markdown",
   "metadata": {},
   "source": [
    "### Question 24 (6 points)\n",
    "\n",
    "In the cell below, write code to release the results of `my_query()` with differential privacy, but using the Gaussian mechanism."
   ]
  },
  {
   "cell_type": "code",
   "execution_count": 29,
   "metadata": {},
   "outputs": [
    {
     "data": {
      "text/plain": [
       "1"
      ]
     },
     "execution_count": 29,
     "metadata": {},
     "output_type": "execute_result"
    }
   ],
   "source": [
    "your_code_here()"
   ]
  },
  {
   "cell_type": "markdown",
   "metadata": {},
   "source": [
    "### Extra Credit\n",
    "\n",
    "You may earn up to 10 points of extra credit on this homework by providing *narrated proofs* of the Sequential and Parallel Composition Theorems. You must prove the Theorems as they are stated on the class slides, following the same notation. Understanding that these proofs are well-known and you may look them up, I am requesting that you *narrate* your proof completely.  That is, for each step in the proof, provide narrative justification for this step. The proof of each Theorem will be graded on a 5 point scale.\n",
    "\n",
    "You should upload your proofs as a separate file. Please type your responses. You may use LaTeX or Word. The same collaboration guidelines apply here. You are required to work indepedently."
   ]
  },
  {
   "cell_type": "code",
   "execution_count": 8,
   "metadata": {},
   "outputs": [],
   "source": [
    "# Please submit your reponses via separate file."
   ]
  }
 ],
 "metadata": {
  "kernelspec": {
   "display_name": "Python 3",
   "language": "python",
   "name": "python3"
  },
  "language_info": {
   "codemirror_mode": {
    "name": "ipython",
    "version": 3
   },
   "file_extension": ".py",
   "mimetype": "text/x-python",
   "name": "python",
   "nbconvert_exporter": "python",
   "pygments_lexer": "ipython3",
   "version": "3.7.10"
  }
 },
 "nbformat": 4,
 "nbformat_minor": 2
}
